{
 "cells": [
  {
   "cell_type": "code",
   "execution_count": 1,
   "id": "4698cab7",
   "metadata": {},
   "outputs": [],
   "source": [
    "import torch\n",
    "import torch.distributions as dist\n",
    "import matplotlib.pyplot as plt"
   ]
  },
  {
   "cell_type": "code",
   "execution_count": 4,
   "id": "fb288f4f",
   "metadata": {},
   "outputs": [
    {
     "data": {
      "text/plain": [
       "tensor([[0, 1, 2],\n",
       "        [1, 2, 3],\n",
       "        [2, 3, 4],\n",
       "        [3, 4, 5]])"
      ]
     },
     "execution_count": 4,
     "metadata": {},
     "output_type": "execute_result"
    }
   ],
   "source": [
    "X_1=torch.arange(4).view(-1,1)\n",
    "X_2=torch.arange(3).view(1,-1)\n",
    "X_1+X_2"
   ]
  },
  {
   "cell_type": "code",
   "execution_count": 5,
   "id": "35e73c2d",
   "metadata": {},
   "outputs": [
    {
     "data": {
      "text/plain": [
       "tensor([0, 1, 2])"
      ]
     },
     "execution_count": 5,
     "metadata": {},
     "output_type": "execute_result"
    }
   ],
   "source": [
    "B=X_1+X_2\n",
    "B[0]"
   ]
  },
  {
   "cell_type": "code",
   "execution_count": 11,
   "id": "2d5f3425",
   "metadata": {},
   "outputs": [
    {
     "data": {
      "text/plain": [
       "tensor([[ 0.0000,  2.8284,  5.6569,  8.4853, 11.3137],\n",
       "        [ 2.8284,  0.0000,  2.8284,  5.6569,  8.4853],\n",
       "        [ 5.6569,  2.8284,  0.0000,  2.8284,  5.6569],\n",
       "        [ 8.4853,  5.6569,  2.8284,  0.0000,  2.8284],\n",
       "        [11.3137,  8.4853,  5.6569,  2.8284,  0.0000]], dtype=torch.float64)"
      ]
     },
     "execution_count": 11,
     "metadata": {},
     "output_type": "execute_result"
    }
   ],
   "source": [
    "X = torch.arange(10, dtype=float).reshape(5, 2)\n",
    "diff=X[:,None,:]-X[None,:,:]\n",
    "sq=diff**2\n",
    "d_mat=torch.sqrt(sq.sum(-1))\n",
    "d_mat"
   ]
  },
  {
   "cell_type": "code",
   "execution_count": 12,
   "id": "11729384",
   "metadata": {},
   "outputs": [
    {
     "name": "stdout",
     "output_type": "stream",
     "text": [
      "tensor([[10, 11, 14],\n",
      "        [15, 16, 19]])\n"
     ]
    }
   ],
   "source": [
    "A = torch.arange(25).reshape(5, 5)\n",
    "\n",
    "row_idx = torch.tensor([2, 3])\n",
    "col_idx = torch.tensor([0, 1, 4])\n",
    "\n",
    "# Use meshgrid to get all (row, col) pairs\n",
    "R, C = torch.meshgrid(row_idx, col_idx, indexing='ij')  # shape [2, 3]\n",
    "\n",
    "# Use fancy indexing\n",
    "submatrix = A[R, C]\n",
    "\n",
    "print(submatrix)\n"
   ]
  },
  {
   "cell_type": "code",
   "execution_count": 17,
   "id": "9a4575ae",
   "metadata": {},
   "outputs": [
    {
     "name": "stdout",
     "output_type": "stream",
     "text": [
      "tensor([[ True, False, False, False, False],\n",
      "        [False, False,  True, False, False],\n",
      "        [False, False, False, False,  True],\n",
      "        [False, False, False, False, False],\n",
      "        [False,  True, False, False, False]])\n",
      "tensor([[ 0,  1,  2,  3,  4],\n",
      "        [ 5,  6,  7,  8,  9],\n",
      "        [10, 11, 12, 13, 14],\n",
      "        [15, 16, 17, 18, 19],\n",
      "        [20, 21, 22, 23, 24]])\n"
     ]
    }
   ],
   "source": [
    "A = torch.arange(25).reshape(5, 5)\n",
    "\n",
    "mask=(A%7==0)\n",
    "print(mask)\n",
    "print(A)"
   ]
  },
  {
   "cell_type": "code",
   "execution_count": 18,
   "id": "ef24b252",
   "metadata": {},
   "outputs": [
    {
     "data": {
      "text/plain": [
       "tensor([[ 1,  1,  2,  3,  4],\n",
       "        [ 5,  6,  8,  8,  9],\n",
       "        [10, 11, 12, 13, 15],\n",
       "        [15, 16, 17, 18, 19],\n",
       "        [20, 22, 22, 23, 24]])"
      ]
     },
     "execution_count": 18,
     "metadata": {},
     "output_type": "execute_result"
    }
   ],
   "source": [
    "A[mask]+=1\n",
    "A"
   ]
  }
 ],
 "metadata": {
  "kernelspec": {
   "display_name": "Python (Global 3.10)",
   "language": "python",
   "name": "global-310"
  },
  "language_info": {
   "codemirror_mode": {
    "name": "ipython",
    "version": 3
   },
   "file_extension": ".py",
   "mimetype": "text/x-python",
   "name": "python",
   "nbconvert_exporter": "python",
   "pygments_lexer": "ipython3",
   "version": "3.12.3"
  }
 },
 "nbformat": 4,
 "nbformat_minor": 5
}
