{
 "cells": [
  {
   "cell_type": "code",
   "execution_count": 1,
   "id": "7f981862",
   "metadata": {},
   "outputs": [],
   "source": [
    "import torch\n",
    "import torch.distributions as dist\n",
    "import matplotlib.pyplot as plt"
   ]
  },
  {
   "cell_type": "code",
   "execution_count": null,
   "id": "53a79469",
   "metadata": {},
   "outputs": [
    {
     "data": {
      "text/plain": [
       "(array([2., 4., 3., 3., 8., 8., 4., 3., 7., 8.]),\n",
       " array([ 3.        ,  4.19999981,  5.4000001 ,  6.60000038,  7.80000019,\n",
       "         9.        , 10.20000076, 11.40000057, 12.60000038, 13.80000019,\n",
       "        15.        ]),\n",
       " <BarContainer object of 10 artists>)"
      ]
     },
     "execution_count": 15,
     "metadata": {},
     "output_type": "execute_result"
    },
    {
     "data": {
      "image/png": "[encoded data removed]",
      "text/plain": [
       "<Figure size 640x480 with 1 Axes>"
      ]
     },
     "metadata": {},
     "output_type": "display_data"
    }
   ],
   "source": [
    "# make λ a float tensor\n",
    "rate = torch.tensor([10.0], dtype=torch.float32)  # or just torch.tensor([10.])\n",
    "m = dist.Poisson(rate)\n",
    "\n",
    "samples = m.sample((50,))        # 50 i.i.d. Poisson draws\n",
    "samples             # torch.float32 (same dtype as rate)\n",
    "\n",
    "plt.hist(samples,bins=10)"
   ]
  },
  {
   "cell_type": "code",
   "execution_count": 18,
   "id": "c9a87a06",
   "metadata": {},
   "outputs": [
    {
     "name": "stdout",
     "output_type": "stream",
     "text": [
      "Probs:\n",
      " tensor([[1.0000, 0.0000, 0.0000, 0.0000, 0.0000],\n",
      "        [0.3679, 0.3679, 0.1839, 0.0613, 0.0153],\n",
      "        [0.1353, 0.2707, 0.2707, 0.1804, 0.0902],\n",
      "        [0.0498, 0.1494, 0.2240, 0.2240, 0.1680],\n",
      "        [0.0183, 0.0733, 0.1465, 0.1954, 0.1954]])\n"
     ]
    }
   ],
   "source": [
    "x = torch.arange(5)  # shape [5]\n",
    "lmbda = torch.arange(5, dtype=torch.float32)  # shape [5]\n",
    "\n",
    "# Reshape for broadcasting\n",
    "x_grid = x.view(1, -1)        # shape [1, 5]\n",
    "lambda_grid = lmbda.view(-1, 1)  # shape [5, 1]\n",
    "\n",
    "# Distribution over grid of lambdas\n",
    "m = dist.Poisson(rate=lambda_grid)  # shape [5, 1]\n",
    "\n",
    "# Broadcasted log-prob over all (λ_i, x_j)\n",
    "log_probs = m.log_prob(x_grid)  # shape [5, 5]\n",
    "probs = log_probs.exp()\n",
    "\n",
    "print(\"Probs:\\n\", probs)"
   ]
  }
 ],
 "metadata": {
  "kernelspec": {
   "display_name": "Python (Global 3.10)",
   "language": "python",
   "name": "global-310"
  },
  "language_info": {
   "codemirror_mode": {
    "name": "ipython",
    "version": 3
   },
   "file_extension": ".py",
   "mimetype": "text/x-python",
   "name": "python",
   "nbconvert_exporter": "python",
   "pygments_lexer": "ipython3",
   "version": "3.12.3"
  }
 },
 "nbformat": 4,
 "nbformat_minor": 5
}
